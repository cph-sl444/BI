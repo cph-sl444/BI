{
 "cells": [
  {
   "cell_type": "code",
   "execution_count": 2,
   "id": "8e2bd576",
   "metadata": {},
   "outputs": [],
   "source": [
    "# import pandas for structuring the data\n",
    "import pandas as pd\n",
    "\n",
    "# import numpy for numerical analysis\n",
    "import numpy as np\n",
    "\n",
    "# import libs for diagrams inline with the text\n",
    "import matplotlib.pyplot as plt\n",
    "%matplotlib inline\n",
    "import seaborn as sns\n",
    "\n",
    "# other utilities\n",
    "from sklearn import datasets, preprocessing, metrics"
   ]
  },
  {
   "cell_type": "code",
   "execution_count": 5,
   "id": "8a742975",
   "metadata": {},
   "outputs": [],
   "source": [
    "df = pd.read_excel(r'C:\\Users\\natas\\Desktop\\sample3.xlsx', index_col=None, na_values=['NA'])"
   ]
  },
  {
   "cell_type": "code",
   "execution_count": 7,
   "id": "5da2b16d",
   "metadata": {},
   "outputs": [
    {
     "data": {
      "text/plain": [
       "(100, 8)"
      ]
     },
     "execution_count": 7,
     "metadata": {},
     "output_type": "execute_result"
    }
   ],
   "source": [
    "df.shape"
   ]
  },
  {
   "cell_type": "code",
   "execution_count": 9,
   "id": "f74b28fc",
   "metadata": {},
   "outputs": [
    {
     "data": {
      "text/plain": [
       "Index([' ID ', '   Name   ', ' Age ', '   City    ', ' Occupation   ',\n",
       "       '   Salary   ', ' Start Date ', '   Status   '],\n",
       "      dtype='object')"
      ]
     },
     "execution_count": 9,
     "metadata": {},
     "output_type": "execute_result"
    }
   ],
   "source": [
    "df.columns"
   ]
  },
  {
   "cell_type": "code",
   "execution_count": 11,
   "id": "9e6b5418",
   "metadata": {},
   "outputs": [
    {
     "data": {
      "text/plain": [
       " ID               0\n",
       "   Name           0\n",
       " Age              0\n",
       "   City           0\n",
       " Occupation       0\n",
       "   Salary         0\n",
       " Start Date       0\n",
       "   Status         0\n",
       "dtype: int64"
      ]
     },
     "execution_count": 11,
     "metadata": {},
     "output_type": "execute_result"
    }
   ],
   "source": [
    "df.isnull().sum()"
   ]
  },
  {
   "cell_type": "code",
   "execution_count": 13,
   "id": "32c997bd",
   "metadata": {},
   "outputs": [
    {
     "data": {
      "text/plain": [
       "0"
      ]
     },
     "execution_count": 13,
     "metadata": {},
     "output_type": "execute_result"
    }
   ],
   "source": [
    "df.duplicated().sum()"
   ]
  },
  {
   "cell_type": "code",
   "execution_count": 15,
   "id": "6854ab5c",
   "metadata": {},
   "outputs": [
    {
     "data": {
      "text/plain": [
       " ID                int64\n",
       "   Name           object\n",
       " Age               int64\n",
       "   City           object\n",
       " Occupation       object\n",
       "   Salary          int64\n",
       " Start Date       object\n",
       "   Status         object\n",
       "dtype: object"
      ]
     },
     "execution_count": 15,
     "metadata": {},
     "output_type": "execute_result"
    }
   ],
   "source": [
    "df.dtypes"
   ]
  },
  {
   "cell_type": "code",
   "execution_count": 17,
   "id": "7e000b1c",
   "metadata": {},
   "outputs": [
    {
     "data": {
      "text/plain": [
       "<bound method NDFrame.head of      ID        Name      Age         City       Occupation        Salary     \\\n",
       "0      1   John            30   New York        Engineer                 80   \n",
       "1      2   Mary            28   Los Angeles     Teacher                  55   \n",
       "2      3   Alex            35   Chicago         Doctor                  120   \n",
       "3      4   Emily           25   Houston          Programmer              70   \n",
       "4      5   Michael         32   Miami           Artist                   45   \n",
       "..   ...           ...    ...             ...             ...           ...   \n",
       "95    96        Sophia     27   Bakersfield     Scientist                82   \n",
       "96    97        Oliver     34   Wichita         Scientist                70   \n",
       "97    98           Mia     40   New Orleans     Doctor                   58   \n",
       "98    99          Noah     41   Arlington       Developer                67   \n",
       "99   100         Steve     32   Bakersfield     Developer                80   \n",
       "\n",
       "     Start Date      Status     \n",
       "0    2022-01-15    Active       \n",
       "1    2022-02-01    Active       \n",
       "2    2021-11-10    Inactive     \n",
       "3    2022-03-20    Active       \n",
       "4    2022-04-05    Active       \n",
       "..           ...           ...  \n",
       "95   2021-11-10    Inactive     \n",
       "96   2022-03-20    Active       \n",
       "97   2022-04-05    Inactive     \n",
       "98   2022-05-12    Active       \n",
       "99   2021-09-30    Active       \n",
       "\n",
       "[100 rows x 8 columns]>"
      ]
     },
     "execution_count": 17,
     "metadata": {},
     "output_type": "execute_result"
    }
   ],
   "source": [
    "df.head"
   ]
  },
  {
   "cell_type": "code",
   "execution_count": 23,
   "id": "f9303c73",
   "metadata": {},
   "outputs": [
    {
     "data": {
      "text/plain": [
       "Index([' ID ', '   Name   ', ' Age ', '   City    ', ' Occupation   ',\n",
       "       '   Salary   ', ' Start Date ', '   Status   '],\n",
       "      dtype='object')"
      ]
     },
     "execution_count": 23,
     "metadata": {},
     "output_type": "execute_result"
    }
   ],
   "source": [
    "df.columns"
   ]
  },
  {
   "cell_type": "code",
   "execution_count": 29,
   "id": "3e58c22a",
   "metadata": {},
   "outputs": [
    {
     "data": {
      "text/html": [
       "<div>\n",
       "<style scoped>\n",
       "    .dataframe tbody tr th:only-of-type {\n",
       "        vertical-align: middle;\n",
       "    }\n",
       "\n",
       "    .dataframe tbody tr th {\n",
       "        vertical-align: top;\n",
       "    }\n",
       "\n",
       "    .dataframe thead th {\n",
       "        text-align: right;\n",
       "    }\n",
       "</style>\n",
       "<table border=\"1\" class=\"dataframe\">\n",
       "  <thead>\n",
       "    <tr style=\"text-align: right;\">\n",
       "      <th></th>\n",
       "      <th>ID</th>\n",
       "      <th>Name</th>\n",
       "      <th>Age</th>\n",
       "      <th>City</th>\n",
       "      <th>Occupation</th>\n",
       "      <th>Salary</th>\n",
       "      <th>Start Date</th>\n",
       "      <th>Status</th>\n",
       "    </tr>\n",
       "  </thead>\n",
       "  <tbody>\n",
       "    <tr>\n",
       "      <th>0</th>\n",
       "      <td>1</td>\n",
       "      <td>John</td>\n",
       "      <td>30</td>\n",
       "      <td>New York</td>\n",
       "      <td>Engineer</td>\n",
       "      <td>80</td>\n",
       "      <td>2022-01-15</td>\n",
       "      <td>Active</td>\n",
       "    </tr>\n",
       "    <tr>\n",
       "      <th>1</th>\n",
       "      <td>2</td>\n",
       "      <td>Mary</td>\n",
       "      <td>28</td>\n",
       "      <td>Los Angeles</td>\n",
       "      <td>Teacher</td>\n",
       "      <td>55</td>\n",
       "      <td>2022-02-01</td>\n",
       "      <td>Active</td>\n",
       "    </tr>\n",
       "    <tr>\n",
       "      <th>2</th>\n",
       "      <td>3</td>\n",
       "      <td>Alex</td>\n",
       "      <td>35</td>\n",
       "      <td>Chicago</td>\n",
       "      <td>Doctor</td>\n",
       "      <td>120</td>\n",
       "      <td>2021-11-10</td>\n",
       "      <td>Inactive</td>\n",
       "    </tr>\n",
       "    <tr>\n",
       "      <th>3</th>\n",
       "      <td>4</td>\n",
       "      <td>Emily</td>\n",
       "      <td>25</td>\n",
       "      <td>Houston</td>\n",
       "      <td>Programmer</td>\n",
       "      <td>70</td>\n",
       "      <td>2022-03-20</td>\n",
       "      <td>Active</td>\n",
       "    </tr>\n",
       "    <tr>\n",
       "      <th>4</th>\n",
       "      <td>5</td>\n",
       "      <td>Michael</td>\n",
       "      <td>32</td>\n",
       "      <td>Miami</td>\n",
       "      <td>Artist</td>\n",
       "      <td>45</td>\n",
       "      <td>2022-04-05</td>\n",
       "      <td>Active</td>\n",
       "    </tr>\n",
       "  </tbody>\n",
       "</table>\n",
       "</div>"
      ],
      "text/plain": [
       "    ID        Name      Age         City       Occupation        Salary     \\\n",
       "0     1   John            30   New York        Engineer                 80   \n",
       "1     2   Mary            28   Los Angeles     Teacher                  55   \n",
       "2     3   Alex            35   Chicago         Doctor                  120   \n",
       "3     4   Emily           25   Houston          Programmer              70   \n",
       "4     5   Michael         32   Miami           Artist                   45   \n",
       "\n",
       "    Start Date      Status     \n",
       "0   2022-01-15    Active       \n",
       "1   2022-02-01    Active       \n",
       "2   2021-11-10    Inactive     \n",
       "3   2022-03-20    Active       \n",
       "4   2022-04-05    Active       "
      ]
     },
     "execution_count": 29,
     "metadata": {},
     "output_type": "execute_result"
    }
   ],
   "source": [
    "df.head()"
   ]
  },
  {
   "cell_type": "code",
   "execution_count": 32,
   "id": "5a29843b",
   "metadata": {},
   "outputs": [
    {
     "data": {
      "text/plain": [
       " ID                int64\n",
       "   Name           object\n",
       " Age               int64\n",
       "   City           object\n",
       " Occupation       object\n",
       "   Salary          int64\n",
       " Start Date       object\n",
       "   Status         object\n",
       "dtype: object"
      ]
     },
     "execution_count": 32,
     "metadata": {},
     "output_type": "execute_result"
    }
   ],
   "source": [
    "df.dtypes"
   ]
  },
  {
   "cell_type": "code",
   "execution_count": 36,
   "id": "dee8af7a",
   "metadata": {},
   "outputs": [
    {
     "name": "stdout",
     "output_type": "stream",
     "text": [
      "Index([' ID ', '   Name   ', ' Age ', '   City    ', ' Occupation   ',\n",
      "       '   Salary   ', ' Start Date ', '   Status   '],\n",
      "      dtype='object')\n"
     ]
    }
   ],
   "source": [
    "print(df.columns)"
   ]
  },
  {
   "cell_type": "code",
   "execution_count": 38,
   "id": "95ffd979",
   "metadata": {},
   "outputs": [],
   "source": [
    "df.columns = df.columns.str.strip()"
   ]
  },
  {
   "cell_type": "code",
   "execution_count": 42,
   "id": "2f302350",
   "metadata": {},
   "outputs": [],
   "source": [
    "mean_salary_by_occupation = df.groupby('Occupation')['Salary'].mean()"
   ]
  },
  {
   "cell_type": "code",
   "execution_count": 43,
   "id": "e52dc878",
   "metadata": {},
   "outputs": [
    {
     "name": "stdout",
     "output_type": "stream",
     "text": [
      "Index(['ID', 'Name', 'Age', 'City', 'Occupation', 'Salary', 'Start Date',\n",
      "       'Status'],\n",
      "      dtype='object')\n"
     ]
    }
   ],
   "source": [
    "print(df.columns)"
   ]
  },
  {
   "cell_type": "code",
   "execution_count": 45,
   "id": "ac96d03b",
   "metadata": {},
   "outputs": [
    {
     "data": {
      "text/plain": [
       "Occupation\n",
       " Analyst          82.571429\n",
       " Architect        77.444444\n",
       " Artist           60.000000\n",
       " Artist           50.000000\n",
       " Chef             87.000000\n",
       " Designer         73.000000\n",
       " Developer        78.700000\n",
       " Doctor           91.875000\n",
       " Engineer         84.666667\n",
       " Lawyer           86.666667\n",
       " Manager          88.500000\n",
       " Manager          82.750000\n",
       " Marketing        65.000000\n",
       " Nurse            70.000000\n",
       " Nurse            65.000000\n",
       " Programmer       93.000000\n",
       " Programmer       67.000000\n",
       " Scientist        88.000000\n",
       " Teacher          70.125000\n",
       " Writer           62.200000\n",
       "Name: Salary, dtype: float64"
      ]
     },
     "execution_count": 45,
     "metadata": {},
     "output_type": "execute_result"
    }
   ],
   "source": [
    "df.groupby('Occupation')['Salary'].mean()"
   ]
  },
  {
   "cell_type": "code",
   "execution_count": 47,
   "id": "f1a8d128",
   "metadata": {},
   "outputs": [
    {
     "data": {
      "text/plain": [
       "<Axes: >"
      ]
     },
     "execution_count": 47,
     "metadata": {},
     "output_type": "execute_result"
    },
    {
     "data": {
      "image/png": "[encoded data removed]",
      "text/plain": [
       "<Figure size 640x480 with 1 Axes>"
      ]
     },
     "metadata": {},
     "output_type": "display_data"
    }
   ],
   "source": [
    "df.Salary.plot.box()"
   ]
  },
  {
   "cell_type": "code",
   "execution_count": 49,
   "id": "3af2a1fa",
   "metadata": {},
   "outputs": [
    {
     "data": {
      "text/plain": [
       "<Axes: ylabel='Frequency'>"
      ]
     },
     "execution_count": 49,
     "metadata": {},
     "output_type": "execute_result"
    },
    {
     "data": {
      "image/png": "[encoded data removed]",
      "text/plain": [
       "<Figure size 640x480 with 1 Axes>"
      ]
     },
     "metadata": {},
     "output_type": "display_data"
    }
   ],
   "source": [
    "df.Salary.plot.hist()"
   ]
  },
  {
   "cell_type": "code",
   "execution_count": null,
   "id": "52ee569d",
   "metadata": {},
   "outputs": [],
   "source": []
  }
 ],
 "metadata": {
  "kernelspec": {
   "display_name": "Python 3 (ipykernel)",
   "language": "python",
   "name": "python3"
  },
  "language_info": {
   "codemirror_mode": {
    "name": "ipython",
    "version": 3
   },
   "file_extension": ".py",
   "mimetype": "text/x-python",
   "name": "python",
   "nbconvert_exporter": "python",
   "pygments_lexer": "ipython3",
   "version": "3.11.5"
  }
 },
 "nbformat": 4,
 "nbformat_minor": 5
}
